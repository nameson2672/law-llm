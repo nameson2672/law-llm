{
 "cells": [
  {
   "cell_type": "code",
   "execution_count": 4,
   "id": "0f5ead03",
   "metadata": {},
   "outputs": [
    {
     "name": "stdout",
     "output_type": "stream",
     "text": [
      "Note: you may need to restart the kernel to use updated packages.\n"
     ]
    }
   ],
   "source": [
    "%pip install --upgrade --quiet  langchain-pinecone langchain-openai langchain\n",
    "\n"
   ]
  },
  {
   "cell_type": "code",
   "execution_count": 7,
   "id": "63e8f987-948d-47ca-a64c-54dd83dca68a",
   "metadata": {},
   "outputs": [
    {
     "name": "stdout",
     "output_type": "stream",
     "text": [
      "Collecting pypdf\n",
      "  Using cached pypdf-4.1.0-py3-none-any.whl.metadata (7.4 kB)\n",
      "Using cached pypdf-4.1.0-py3-none-any.whl (286 kB)\n",
      "Installing collected packages: pypdf\n",
      "Successfully installed pypdf-4.1.0\n",
      "Note: you may need to restart the kernel to use updated packages.\n"
     ]
    }
   ],
   "source": [
    "pip install pypdf"
   ]
  },
  {
   "cell_type": "code",
   "execution_count": 2,
   "id": "9bc359a7",
   "metadata": {},
   "outputs": [],
   "source": [
    "import os\n",
    "os.environ['PINECONE_API_KEY'] = \"Api-Key\"\n",
    "os.environ['PINECONE_INDEX_NAME'] = \"legal-assistance\""
   ]
  },
  {
   "cell_type": "code",
   "execution_count": 4,
   "id": "8f09348d",
   "metadata": {},
   "outputs": [],
   "source": [
    "from langchain_community.document_loaders import TextLoader\n",
    "from langchain_openai import OpenAIEmbeddings\n",
    "from langchain_text_splitters import CharacterTextSplitter\n",
    "from langchain_community.embeddings import HuggingFaceInferenceAPIEmbeddings\n",
    "from langchain_pinecone import PineconeVectorStore\n",
    "from langchain.document_loaders import PyPDFDirectoryLoader\n",
    "\n",
    "\n",
    "file_loader=PyPDFDirectoryLoader('documents/')\n",
    "documents=file_loader.load()\n",
    "text_splitter = CharacterTextSplitter(chunk_size=10, chunk_overlap=2)\n",
    "docs = text_splitter.split_documents(documents)"
   ]
  },
  {
   "cell_type": "code",
   "execution_count": 5,
   "id": "8576f7c2",
   "metadata": {},
   "outputs": [],
   "source": [
    "\n",
    "embeddings = HuggingFaceInferenceAPIEmbeddings(\n",
    "    api_key=\"APIKEYHERE\", model_name=\"sentence-transformers/all-MiniLM-l6-v2\"\n",
    ")"
   ]
  },
  {
   "cell_type": "code",
   "execution_count": 6,
   "id": "1edcb1e7",
   "metadata": {},
   "outputs": [],
   "source": [
    "\n",
    "index_name = \"legal-assistance\"\n",
    "\n",
    "docsearch = PineconeVectorStore.from_documents(docs, embeddings, index_name=index_name)"
   ]
  },
  {
   "cell_type": "code",
   "execution_count": 11,
   "id": "f3873016",
   "metadata": {},
   "outputs": [
    {
     "name": "stdout",
     "output_type": "stream",
     "text": [
      "6 \n",
      " For the purpose of this policy, a post -secondary institution which is not compliant \n",
      "with, and/or not subject to, one or more of the above -noted pieces of legislation \n",
      "may not host international students.  \n",
      " \n",
      "Designated learning institutions must meet the institutional responsibilities set out \n",
      "below. Any designated institution which is non -compliant after an audit or \n",
      "inspect ion and does not demonstrate compliance will be subject to revocation of \n",
      "designation by the Province.  \n",
      " \n",
      "INSTITUTION ELIGIBILITY  \n",
      "The following are considered eligible institutions:  \n",
      " \n",
      "A. Publicly assisted post -secondary learning institutions, such as universities , \n",
      "colleges, and other learning institutions.  \n",
      " \n",
      "B. Private institutions such as:  \n",
      " Private Career Colleges registered under the Private Occupational \n",
      "Training Act (POTA);  \n",
      " Private Universities;  and \n",
      " Other private post -secondary learning institutions accredited by third \n",
      "parties deemed appropriate by PETL for the purpose of this policy.  \n",
      " \n",
      "Eligible Institutions may be designated once they complete and submit a complete \n",
      "Application For Designation Form, submit the required supporting documentation, \n",
      "and sig n a Designation Agreement for Post -Secondary Learning Institutions under \n",
      "the International Student Program with PETL to confirm their compliance with the \n",
      "criteria for designation.  \n",
      " \n",
      "Institutions that offer programs exclusively online do not require to be de signated \n",
      "under the International Student Program.  \n",
      " \n",
      "CRITERIA FOR DESIGNATION  \n",
      "The designation criteria are intended to represent New -Brunswick’s level of \n",
      "standards of delivery of post -secondary education and student protection. They are \n",
      "also designed to ensu re that the needs of international students are met. In order\n"
     ]
    }
   ],
   "source": [
    "query = \"What are the rights of post-secondary students?\"\n",
    "docs = docsearch.similarity_search(query)\n",
    "print(docs[0].page_content)"
   ]
  },
  {
   "cell_type": "code",
   "execution_count": null,
   "id": "7091f1c5",
   "metadata": {},
   "outputs": [],
   "source": []
  }
 ],
 "metadata": {
  "kernelspec": {
   "display_name": "Python 3 (ipykernel)",
   "language": "python",
   "name": "python3"
  },
  "language_info": {
   "codemirror_mode": {
    "name": "ipython",
    "version": 3
   },
   "file_extension": ".py",
   "mimetype": "text/x-python",
   "name": "python",
   "nbconvert_exporter": "python",
   "pygments_lexer": "ipython3",
   "version": "3.11.7"
  }
 },
 "nbformat": 4,
 "nbformat_minor": 5
}
